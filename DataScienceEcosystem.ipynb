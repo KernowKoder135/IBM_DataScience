{
 "cells": [
  {
   "metadata": {},
   "cell_type": "markdown",
   "source": "# Data Science Tools and Ecosystem",
   "id": "52f66f79ad40d082"
  },
  {
   "metadata": {},
   "cell_type": "markdown",
   "source": "In this notebook, Data Science Tools and Ecosystem are summarized.",
   "id": "66ed7077a0fd908e"
  },
  {
   "metadata": {},
   "cell_type": "markdown",
   "source": [
    "<b>Objectives:</b> \n",
    "- List popular languages for Data Science.\n",
    "- List popular packages for Data Science.\n",
    "- List popular Data Science Tools\n",
    "- Demonstrate some mathematical operations"
   ],
   "id": "bdbd0c00adf0375c"
  },
  {
   "metadata": {},
   "cell_type": "markdown",
   "source": [
    "Some of the popular languages that Data Scientists use are:\n",
    "1. Python\n",
    "2. R\n",
    "3. SQL"
   ],
   "id": "375b66804a913a84"
  },
  {
   "metadata": {},
   "cell_type": "markdown",
   "source": [
    "Some of the commonly used libraries used by Data Scientists include:\n",
    "1. Scikit-learn\n",
    "2. Pandas\n",
    "3. Numpy"
   ],
   "id": "4defac72c5038da4"
  },
  {
   "metadata": {},
   "cell_type": "markdown",
   "source": [
    "| Data Science Tools             |\n",
    "|--------------------------------|\n",
    "| Jupyter Notebook               |\n",
    "| VS Code with Python extensions | \n",
    "| RStudio                        |\n"
   ],
   "id": "3a38afef209152a0"
  },
  {
   "metadata": {},
   "cell_type": "markdown",
   "source": "### Below are a few examples of evaluating arithmetic expressions in Python",
   "id": "ccfc693430969d0e"
  },
  {
   "metadata": {
    "ExecuteTime": {
     "end_time": "2025-06-26T21:21:22.291920Z",
     "start_time": "2025-06-26T21:21:22.282886Z"
    }
   },
   "cell_type": "code",
   "source": [
    "# This a simple arithmetic expression to mutiply then add integers.\n",
    "(3*4)+5"
   ],
   "id": "91559cd0bcd56b5",
   "outputs": [
    {
     "data": {
      "text/plain": [
       "17"
      ]
     },
     "execution_count": 5,
     "metadata": {},
     "output_type": "execute_result"
    }
   ],
   "execution_count": 5
  },
  {
   "metadata": {
    "ExecuteTime": {
     "end_time": "2025-06-26T21:21:22.718376Z",
     "start_time": "2025-06-26T21:21:22.709414Z"
    }
   },
   "cell_type": "code",
   "source": [
    "# This will convert 200 minutes to hours by diving by 60\n",
    "200 / 60"
   ],
   "id": "9ad3145e9bdcd196",
   "outputs": [
    {
     "data": {
      "text/plain": [
       "3.3333333333333335"
      ]
     },
     "execution_count": 6,
     "metadata": {},
     "output_type": "execute_result"
    }
   ],
   "execution_count": 6
  },
  {
   "metadata": {},
   "cell_type": "markdown",
   "source": [
    "## Author\n",
    "Charlie Saunders"
   ],
   "id": "a2bd0478bdaf2d5b"
  },
  {
   "metadata": {
    "ExecuteTime": {
     "end_time": "2025-06-27T12:57:41.283135Z",
     "start_time": "2025-06-27T12:57:41.269920Z"
    }
   },
   "cell_type": "code",
   "source": " '1'+'2'",
   "id": "7ecf2bdbe01c3077",
   "outputs": [
    {
     "data": {
      "text/plain": [
       "'12'"
      ]
     },
     "execution_count": 2,
     "metadata": {},
     "output_type": "execute_result"
    }
   ],
   "execution_count": 2
  },
  {
   "metadata": {
    "ExecuteTime": {
     "end_time": "2025-06-27T12:58:03.075682Z",
     "start_time": "2025-06-27T12:58:03.066503Z"
    }
   },
   "cell_type": "code",
   "source": "\"abc\".upper()",
   "id": "b827164ba0a50d16",
   "outputs": [
    {
     "data": {
      "text/plain": [
       "'ABC'"
      ]
     },
     "execution_count": 3,
     "metadata": {},
     "output_type": "execute_result"
    }
   ],
   "execution_count": 3
  },
  {
   "metadata": {
    "ExecuteTime": {
     "end_time": "2025-06-27T13:11:08.470572Z",
     "start_time": "2025-06-27T13:11:08.459989Z"
    }
   },
   "cell_type": "code",
   "source": [
    "A=[1,2,3,4,5]\n",
    "B=A[:]\n",
    "B"
   ],
   "id": "b281ece6a38f83ae",
   "outputs": [
    {
     "data": {
      "text/plain": [
       "[1, 2, 3, 4, 5]"
      ]
     },
     "execution_count": 7,
     "metadata": {},
     "output_type": "execute_result"
    }
   ],
   "execution_count": 7
  },
  {
   "metadata": {
    "ExecuteTime": {
     "end_time": "2025-06-27T13:06:13.376923Z",
     "start_time": "2025-06-27T13:06:13.363918Z"
    }
   },
   "cell_type": "code",
   "source": "{\"a\":1,\"b\":2}.keys()",
   "id": "84ac35cdd9de29f4",
   "outputs": [
    {
     "data": {
      "text/plain": [
       "dict_keys(['a', 'b'])"
      ]
     },
     "execution_count": 5,
     "metadata": {},
     "output_type": "execute_result"
    }
   ],
   "execution_count": 5
  },
  {
   "metadata": {
    "ExecuteTime": {
     "end_time": "2025-06-27T13:16:45.278274Z",
     "start_time": "2025-06-27T13:16:45.268468Z"
    }
   },
   "cell_type": "code",
   "source": "\"a\"==\"A\"",
   "id": "ee73d5f4eec6662f",
   "outputs": [
    {
     "data": {
      "text/plain": [
       "False"
      ]
     },
     "execution_count": 8,
     "metadata": {},
     "output_type": "execute_result"
    }
   ],
   "execution_count": 8
  },
  {
   "metadata": {
    "ExecuteTime": {
     "end_time": "2025-06-27T13:17:59.346722Z",
     "start_time": "2025-06-27T13:17:59.333874Z"
    }
   },
   "cell_type": "code",
   "source": [
    "for x in range(0, 3):\n",
    "    print(x)"
   ],
   "id": "b74315ed27c3b800",
   "outputs": [
    {
     "name": "stdout",
     "output_type": "stream",
     "text": [
      "0\n",
      "1\n",
      "2\n"
     ]
    }
   ],
   "execution_count": 9
  },
  {
   "metadata": {
    "ExecuteTime": {
     "end_time": "2025-06-27T13:22:06.306546Z",
     "start_time": "2025-06-27T13:22:06.295089Z"
    }
   },
   "cell_type": "code",
   "source": " len([sum([1,1,1])])",
   "id": "44e6dab3bd727e52",
   "outputs": [
    {
     "data": {
      "text/plain": [
       "1"
      ]
     },
     "execution_count": 10,
     "metadata": {},
     "output_type": "execute_result"
    }
   ],
   "execution_count": 10
  },
  {
   "metadata": {
    "ExecuteTime": {
     "end_time": "2025-06-27T13:45:38.395538Z",
     "start_time": "2025-06-27T13:45:38.384847Z"
    }
   },
   "cell_type": "code",
   "source": [
    "x = \"Go\" \n",
    "if x == \"Go\": \n",
    "    print('Go') \n",
    "else: \n",
    "    print('Stop') \n",
    "print('Mike')"
   ],
   "id": "1ddc605cfd8d16c9",
   "outputs": [
    {
     "name": "stdout",
     "output_type": "stream",
     "text": [
      "Go\n",
      "Mike\n"
     ]
    }
   ],
   "execution_count": 11
  },
  {
   "metadata": {
    "ExecuteTime": {
     "end_time": "2025-06-27T13:50:40.898460Z",
     "start_time": "2025-06-27T13:50:40.892373Z"
    }
   },
   "cell_type": "code",
   "source": [
    "x=\"a\"\n",
    "2*x"
   ],
   "id": "f39fb3874794e440",
   "outputs": [
    {
     "data": {
      "text/plain": [
       "'aa'"
      ]
     },
     "execution_count": 12,
     "metadata": {},
     "output_type": "execute_result"
    }
   ],
   "execution_count": 12
  },
  {
   "metadata": {
    "ExecuteTime": {
     "end_time": "2025-06-27T14:07:49.793196Z",
     "start_time": "2025-06-27T14:07:48.979419Z"
    }
   },
   "cell_type": "code",
   "source": [
    "    import numpy as np\n",
    "    a=np.array([-1,1]) \n",
    "    b=np.array([1,1]) \n",
    "    np.dot(a,b) "
   ],
   "id": "737a622220781f3a",
   "outputs": [
    {
     "data": {
      "text/plain": [
       "np.int64(0)"
      ]
     },
     "execution_count": 14,
     "metadata": {},
     "output_type": "execute_result"
    }
   ],
   "execution_count": 14
  },
  {
   "metadata": {
    "ExecuteTime": {
     "end_time": "2025-06-27T14:10:27.638537Z",
     "start_time": "2025-06-27T14:10:27.630286Z"
    }
   },
   "cell_type": "code",
   "source": [
    "X=np.array([[1,0],[0,1]])\n",
    "\n",
    "Y=np.array([[2,2],[2,2]]) \n",
    "\n",
    "Z=np.dot(X,Y) "
   ],
   "id": "1987e29eafb12ee6",
   "outputs": [],
   "execution_count": 17
  },
  {
   "metadata": {
    "ExecuteTime": {
     "end_time": "2025-06-27T14:11:09.819823Z",
     "start_time": "2025-06-27T14:11:09.810345Z"
    }
   },
   "cell_type": "code",
   "source": "X",
   "id": "f7656331b5a91632",
   "outputs": [
    {
     "data": {
      "text/plain": [
       "array([[1, 0],\n",
       "       [0, 1]])"
      ]
     },
     "execution_count": 19,
     "metadata": {},
     "output_type": "execute_result"
    }
   ],
   "execution_count": 19
  },
  {
   "metadata": {
    "ExecuteTime": {
     "end_time": "2025-06-27T14:11:20.505587Z",
     "start_time": "2025-06-27T14:11:20.496374Z"
    }
   },
   "cell_type": "code",
   "source": "Y",
   "id": "d76dc8ce96fb267",
   "outputs": [
    {
     "data": {
      "text/plain": [
       "array([[2, 2],\n",
       "       [2, 2]])"
      ]
     },
     "execution_count": 21,
     "metadata": {},
     "output_type": "execute_result"
    }
   ],
   "execution_count": 21
  },
  {
   "metadata": {
    "ExecuteTime": {
     "end_time": "2025-06-27T14:11:14.707191Z",
     "start_time": "2025-06-27T14:11:14.697939Z"
    }
   },
   "cell_type": "code",
   "source": "Z",
   "id": "9d1fcfba42364f14",
   "outputs": [
    {
     "data": {
      "text/plain": [
       "array([[2, 2],\n",
       "       [2, 2]])"
      ]
     },
     "execution_count": 20,
     "metadata": {},
     "output_type": "execute_result"
    }
   ],
   "execution_count": 20
  },
  {
   "metadata": {
    "ExecuteTime": {
     "end_time": "2025-06-27T19:18:54.073589Z",
     "start_time": "2025-06-27T19:18:54.066058Z"
    }
   },
   "cell_type": "code",
   "source": [
    "for i in range(1,5): \n",
    "\n",
    "      if (i!=2):  \n",
    "\n",
    "          print(i)"
   ],
   "id": "582ee484c951e6a6",
   "outputs": [
    {
     "name": "stdout",
     "output_type": "stream",
     "text": [
      "1\n",
      "3\n",
      "4\n"
     ]
    }
   ],
   "execution_count": 1
  },
  {
   "metadata": {
    "ExecuteTime": {
     "end_time": "2025-06-27T19:20:11.176755Z",
     "start_time": "2025-06-27T19:20:11.167520Z"
    }
   },
   "cell_type": "code",
   "source": [
    "import numpy as np\n",
    "\n",
    "a=np.array([0,1,0,1,0]) \n",
    "b=np.array([1,0,1,0,1]) \n",
    "a/b "
   ],
   "id": "ec387483dc9ad2f9",
   "outputs": [
    {
     "name": "stderr",
     "output_type": "stream",
     "text": [
      "C:\\Users\\wavey\\AppData\\Local\\Temp\\ipykernel_36256\\1685466869.py:5: RuntimeWarning: divide by zero encountered in divide\n",
      "  a/b\n"
     ]
    },
    {
     "data": {
      "text/plain": [
       "array([ 0., inf,  0., inf,  0.])"
      ]
     },
     "execution_count": 4,
     "metadata": {},
     "output_type": "execute_result"
    }
   ],
   "execution_count": 4
  },
  {
   "metadata": {
    "ExecuteTime": {
     "end_time": "2025-06-27T19:21:44.573022Z",
     "start_time": "2025-06-27T19:21:44.565236Z"
    }
   },
   "cell_type": "code",
   "source": [
    "\n",
    "\n",
    "a=np.array([1,1,1,1,1]) \n",
    "a+10\n",
    "\n",
    "\n"
   ],
   "id": "cb39ec44e3a4c410",
   "outputs": [
    {
     "data": {
      "text/plain": [
       "array([11, 11, 11, 11, 11])"
      ]
     },
     "execution_count": 6,
     "metadata": {},
     "output_type": "execute_result"
    }
   ],
   "execution_count": 6
  },
  {
   "metadata": {},
   "cell_type": "code",
   "outputs": [],
   "execution_count": null,
   "source": "",
   "id": "da648f5167f11909"
  }
 ],
 "metadata": {
  "kernelspec": {
   "display_name": "Python 3",
   "language": "python",
   "name": "python3"
  },
  "language_info": {
   "codemirror_mode": {
    "name": "ipython",
    "version": 2
   },
   "file_extension": ".py",
   "mimetype": "text/x-python",
   "name": "python",
   "nbconvert_exporter": "python",
   "pygments_lexer": "ipython2",
   "version": "2.7.6"
  }
 },
 "nbformat": 4,
 "nbformat_minor": 5
}
