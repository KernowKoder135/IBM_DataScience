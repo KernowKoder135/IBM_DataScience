{
 "cells": [
  {
   "metadata": {},
   "cell_type": "markdown",
   "source": "# Data Science Tools and Ecosystem",
   "id": "52f66f79ad40d082"
  },
  {
   "metadata": {},
   "cell_type": "markdown",
   "source": "In this notebook, Data Science Tools and Ecosystem are summarized.",
   "id": "66ed7077a0fd908e"
  },
  {
   "metadata": {},
   "cell_type": "markdown",
   "source": [
    "<b>Objectives:</b> \n",
    "- List popular languages for Data Science.\n",
    "- List popular packages for Data Science.\n",
    "- List popular Data Science Tools\n",
    "- Demonstrate some mathematical operations"
   ],
   "id": "bdbd0c00adf0375c"
  },
  {
   "metadata": {},
   "cell_type": "markdown",
   "source": [
    "Some of the popular languages that Data Scientists use are:\n",
    "1. Python\n",
    "2. R\n",
    "3. SQL"
   ],
   "id": "375b66804a913a84"
  },
  {
   "metadata": {},
   "cell_type": "markdown",
   "source": [
    "Some of the commonly used libraries used by Data Scientists include:\n",
    "1. Scikit-learn\n",
    "2. Pandas\n",
    "3. Numpy"
   ],
   "id": "4defac72c5038da4"
  },
  {
   "metadata": {},
   "cell_type": "markdown",
   "source": [
    "| Data Science Tools             |\n",
    "|--------------------------------|\n",
    "| Jupyter Notebook               |\n",
    "| VS Code with Python extensions | \n",
    "| RStudio                        |\n"
   ],
   "id": "3a38afef209152a0"
  },
  {
   "metadata": {},
   "cell_type": "markdown",
   "source": "### Below are a few examples of evaluating arithmetic expressions in Python",
   "id": "ccfc693430969d0e"
  },
  {
   "metadata": {
    "ExecuteTime": {
     "end_time": "2025-06-26T21:21:22.291920Z",
     "start_time": "2025-06-26T21:21:22.282886Z"
    }
   },
   "cell_type": "code",
   "source": [
    "# This a simple arithmetic expression to mutiply then add integers.\n",
    "(3*4)+5"
   ],
   "id": "91559cd0bcd56b5",
   "outputs": [
    {
     "data": {
      "text/plain": [
       "17"
      ]
     },
     "execution_count": 5,
     "metadata": {},
     "output_type": "execute_result"
    }
   ],
   "execution_count": 5
  },
  {
   "metadata": {
    "ExecuteTime": {
     "end_time": "2025-06-26T21:21:22.718376Z",
     "start_time": "2025-06-26T21:21:22.709414Z"
    }
   },
   "cell_type": "code",
   "source": [
    "# This will convert 200 minutes to hours by diving by 60\n",
    "200 / 60"
   ],
   "id": "9ad3145e9bdcd196",
   "outputs": [
    {
     "data": {
      "text/plain": [
       "3.3333333333333335"
      ]
     },
     "execution_count": 6,
     "metadata": {},
     "output_type": "execute_result"
    }
   ],
   "execution_count": 6
  },
  {
   "metadata": {},
   "cell_type": "markdown",
   "source": [
    "## Author\n",
    "Charlie Saunders"
   ],
   "id": "a2bd0478bdaf2d5b"
  },
  {
   "metadata": {},
   "cell_type": "code",
   "outputs": [],
   "execution_count": null,
   "source": "Exercise 13 -Take a screenshot of the first page of the notebook and save it as 1-notebook.png",
   "id": "7ecf2bdbe01c3077"
  }
 ],
 "metadata": {
  "kernelspec": {
   "display_name": "Python 3",
   "language": "python",
   "name": "python3"
  },
  "language_info": {
   "codemirror_mode": {
    "name": "ipython",
    "version": 2
   },
   "file_extension": ".py",
   "mimetype": "text/x-python",
   "name": "python",
   "nbconvert_exporter": "python",
   "pygments_lexer": "ipython2",
   "version": "2.7.6"
  }
 },
 "nbformat": 4,
 "nbformat_minor": 5
}
